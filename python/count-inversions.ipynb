{
 "cells": [
  {
   "cell_type": "code",
   "execution_count": 1,
   "metadata": {},
   "outputs": [],
   "source": [
    "import pandas as pd"
   ]
  },
  {
   "cell_type": "code",
   "execution_count": 2,
   "metadata": {},
   "outputs": [
    {
     "data": {
      "text/plain": [
       "0    54044\n",
       "1    14108\n",
       "2    79294\n",
       "3    29649\n",
       "4    25260\n",
       "Name: 0, dtype: int64"
      ]
     },
     "execution_count": 2,
     "metadata": {},
     "output_type": "execute_result"
    }
   ],
   "source": [
    "s = pd.read_csv('IntegerArray.txt',header=None,squeeze=True)\n",
    "s.head()"
   ]
  },
  {
   "cell_type": "code",
   "execution_count": 3,
   "metadata": {},
   "outputs": [],
   "source": [
    "vals = s.values.tolist()"
   ]
  },
  {
   "cell_type": "code",
   "execution_count": 4,
   "metadata": {},
   "outputs": [],
   "source": [
    "def sort_and_count(in_array):\n",
    "    length = len(in_array)\n",
    "    if length == 1:\n",
    "        return in_array, 0\n",
    "    \n",
    "    first, count_first = sort_and_count(in_array[:length//2])\n",
    "    second, count_second = sort_and_count(in_array[length//2:])\n",
    "    sorted_array, count_merged = count_split_inv(first, second)\n",
    "    return sorted_array, count_first + count_second + count_merged\n",
    "    "
   ]
  },
  {
   "cell_type": "code",
   "execution_count": 5,
   "metadata": {},
   "outputs": [],
   "source": [
    "def count_split_inv(first, second):\n",
    "    flen = len(first)\n",
    "    slen = len(second)\n",
    "    i = j = count = 0\n",
    "    merged = []\n",
    "    \n",
    "    # four cases\n",
    "    # case 1: i = flen \n",
    "    #        (append remaining second to merged)\n",
    "    # case 2: j = slen \n",
    "    #         (append remaining first to merged)\n",
    "    # case 3: i,j < flen,slen and first[i] < second[j] \n",
    "    #         (append first[i])\n",
    "    # case 4: i,j < flen,slen and first[i] >= second[j]\n",
    "    #         (then increment split inversions by the total\n",
    "    #          number of elements remaining in first array)\n",
    "    for k in range(flen + slen):\n",
    "        if i == flen:\n",
    "            return merged + second[j:], count\n",
    "        if j == slen:\n",
    "            return merged + first[i:], count\n",
    "        if first[i] < second[j]:\n",
    "            merged.append(first[i])\n",
    "            i += 1\n",
    "            continue\n",
    "        merged.append(second[j])\n",
    "        j += 1\n",
    "        count += flen - i\n",
    "        \n",
    "    return first + second, count"
   ]
  },
  {
   "cell_type": "code",
   "execution_count": 7,
   "metadata": {},
   "outputs": [
    {
     "data": {
      "text/plain": [
       "2407905288"
      ]
     },
     "execution_count": 7,
     "metadata": {},
     "output_type": "execute_result"
    }
   ],
   "source": [
    "sorted_array, count = sort_and_count(vals)\n",
    "count"
   ]
  },
  {
   "cell_type": "code",
   "execution_count": 12,
   "metadata": {},
   "outputs": [
    {
     "data": {
      "text/plain": [
       "[1, 2, 3, 4, 5, 6, 7, 8, 9, 10, 11, 12, 13, 14, 15, 16, 17, 18, 19, 20]"
      ]
     },
     "execution_count": 12,
     "metadata": {},
     "output_type": "execute_result"
    }
   ],
   "source": [
    "sorted_array[:20]"
   ]
  },
  {
   "cell_type": "code",
   "execution_count": null,
   "metadata": {},
   "outputs": [],
   "source": []
  }
 ],
 "metadata": {
  "kernelspec": {
   "display_name": "Python 3",
   "language": "python",
   "name": "python3"
  },
  "language_info": {
   "codemirror_mode": {
    "name": "ipython",
    "version": 3
   },
   "file_extension": ".py",
   "mimetype": "text/x-python",
   "name": "python",
   "nbconvert_exporter": "python",
   "pygments_lexer": "ipython3",
   "version": "3.6.5"
  }
 },
 "nbformat": 4,
 "nbformat_minor": 2
}
