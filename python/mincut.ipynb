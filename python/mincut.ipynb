{
 "cells": [
  {
   "cell_type": "code",
   "execution_count": 941,
   "metadata": {},
   "outputs": [],
   "source": [
    "import os\n",
    "import random\n",
    "import copy\n",
    "import time"
   ]
  },
  {
   "cell_type": "code",
   "execution_count": 942,
   "metadata": {},
   "outputs": [],
   "source": [
    "with open('kargerMinCut.txt', 'r') as f:\n",
    "    content = f.readlines()\n"
   ]
  },
  {
   "cell_type": "code",
   "execution_count": 943,
   "metadata": {},
   "outputs": [],
   "source": [
    "def read_graph():\n",
    "    graph = {}\n",
    "    \n",
    "    for line in content:\n",
    "        l = [int(x) for x in line.split()]\n",
    "        graph[l[0]] = l[1:]\n",
    "\n",
    "    return graph\n"
   ]
  },
  {
   "cell_type": "code",
   "execution_count": 944,
   "metadata": {},
   "outputs": [],
   "source": [
    "\n",
    "def get_edges(graph):\n",
    "    edges = set()\n",
    "    for u in graph:\n",
    "        for v in graph[u]:\n",
    "            edges.add(tuple(sorted([u,v]))) # removes duplicates\n",
    "    \n",
    "    return [[x,y] for (x,y) in edges]"
   ]
  },
  {
   "cell_type": "code",
   "execution_count": 945,
   "metadata": {},
   "outputs": [],
   "source": [
    "graph = read_graph()\n",
    "#graph = {1:[2,3,4], 2:[1,3], 3:[1,2,4], 4:[1,3]}\n",
    "nodes = list(graph.keys())\n",
    "edges = get_edges(graph)"
   ]
  },
  {
   "cell_type": "code",
   "execution_count": 946,
   "metadata": {},
   "outputs": [],
   "source": [
    "def contract(nodes, edges):\n",
    "    while len(nodes) > 2:\n",
    "        # pick a remaining edge (u,v) uniformly at random\n",
    "        u,v = edges[random.randint(0, len(edges) -1)]\n",
    "        \n",
    "        # remove this edge\n",
    "        edges.remove([u,v])\n",
    "\n",
    "        # merge u and v into the single vertex u\n",
    "        nodes.remove(v)\n",
    "\n",
    "        # replace v with u in edges\n",
    "        for edge in edges:\n",
    "            if edge[0] == v: edge[0] = u\n",
    "            if edge[1] == v: edge[1] = u\n",
    "\n",
    "        # remove self-loops\n",
    "        edges = list(filter(([u,u]).__ne__, edges))\n",
    "\n",
    "    return len(edges)"
   ]
  },
  {
   "cell_type": "code",
   "execution_count": 947,
   "metadata": {},
   "outputs": [
    {
     "name": "stdout",
     "output_type": "stream",
     "text": [
      "60.916749000549316\n",
      "17\n"
     ]
    }
   ],
   "source": [
    "min_cut = []\n",
    "start_time = time.time()\n",
    "for _ in range(1000):\n",
    "    min_cut.append(contract(nodes.copy(), copy.deepcopy(edges)))\n",
    "    \n",
    "end_time=time.time()\n",
    "print(end_time-start_time)\n",
    "print(min(min_cut))"
   ]
  },
  {
   "cell_type": "code",
   "execution_count": null,
   "metadata": {},
   "outputs": [],
   "source": []
  }
 ],
 "metadata": {
  "kernelspec": {
   "display_name": "Python 3",
   "language": "python",
   "name": "python3"
  },
  "language_info": {
   "codemirror_mode": {
    "name": "ipython",
    "version": 3
   },
   "file_extension": ".py",
   "mimetype": "text/x-python",
   "name": "python",
   "nbconvert_exporter": "python",
   "pygments_lexer": "ipython3",
   "version": "3.6.5"
  }
 },
 "nbformat": 4,
 "nbformat_minor": 2
}
