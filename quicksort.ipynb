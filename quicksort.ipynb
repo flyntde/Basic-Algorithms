{
 "cells": [
  {
   "cell_type": "code",
   "execution_count": 3,
   "metadata": {},
   "outputs": [],
   "source": [
    "import pandas as pd"
   ]
  },
  {
   "cell_type": "code",
   "execution_count": 4,
   "metadata": {},
   "outputs": [],
   "source": [
    "s = pd.read_csv('QuickSort.txt',header=None,squeeze=True)\n",
    "vals = s.values.tolist()\n",
    "\n",
    "def median_index(array, a, b, c):\n",
    "    if (array[a] - array[b]) * (array[c] - array[a]) >= 0: return a\n",
    "    if (array[b] - array[a]) * (array[c] - array[b]) >= 0: return b\n",
    "    return c\n",
    "\n",
    "def median_pivot(array, begin, end):\n",
    "    length = end - begin + 1\n",
    "    middle_index = length//2 + begin - 1 if length %2 == 0 else length//2 + begin\n",
    "    median_pivot = median_index(array, begin, end, middle_index)\n",
    "    \n",
    "    if array[end] == array[median_pivot]:\n",
    "        array[begin], array[end] = array[end], array[begin]\n",
    "    else:\n",
    "        if array[middle_index] == array[median_pivot]:\n",
    "            array[begin], array[middle_index] = array[middle_index], array[begin]\n",
    "            \n",
    "    return median_pivot\n",
    "\n",
    "def partition(array, begin, end):\n",
    "    pivot = begin\n",
    "    if pivot_type == 'end':\n",
    "        array[begin], array[end] = array[end], array[begin]\n",
    "    if pivot_type == 'median':\n",
    "        median_pivot(array, begin, end)\n",
    "    \n",
    "    i = begin + 1\n",
    "    for j in range(begin+1, end + 1):\n",
    "        if not (array[j] < array[pivot]): continue\n",
    "        array[i], array[j] = array[j], array[i] #swap\n",
    "        i += 1\n",
    "    \n",
    "    array[begin], array[i - 1] = array[i - 1], array[begin]\n",
    "    return i - 1\n",
    "        \n",
    "\n",
    "def quicksort(array, begin, end):\n",
    "    global num_comparisons\n",
    "    num_comparisons += end - begin\n",
    "\n",
    "    if (begin == end): return\n",
    "    \n",
    "    pivot = partition(array, begin, end)\n",
    "    \n",
    "    if pivot - begin > 0: quicksort(array, begin, pivot - 1)\n",
    "    if end - pivot > 0: quicksort(array, pivot + 1, end)\n"
   ]
  },
  {
   "cell_type": "code",
   "execution_count": 5,
   "metadata": {},
   "outputs": [
    {
     "name": "stdout",
     "output_type": "stream",
     "text": [
      "162085\n",
      "164123\n",
      "138382\n"
     ]
    },
    {
     "data": {
      "text/plain": [
       "[1, 2, 3, 4, 5, 6, 7, 8, 9, 10, 11, 12, 13, 14, 15, 16, 17, 18, 19, 20]"
      ]
     },
     "execution_count": 5,
     "metadata": {},
     "output_type": "execute_result"
    }
   ],
   "source": [
    "pivot_type='begin'\n",
    "num_comparisons = 0\n",
    "vals = s.values.tolist()\n",
    "quicksort(vals, 0, len(vals) - 1)\n",
    "print(num_comparisons)\n",
    "\n",
    "vals = s.values.tolist()\n",
    "pivot_type='end'\n",
    "num_comparisons = 0\n",
    "quicksort(vals, 0, len(vals) - 1)\n",
    "print(num_comparisons)\n",
    "\n",
    "vals = s.values.tolist()\n",
    "pivot_type='median'\n",
    "num_comparisons = 0\n",
    "quicksort(vals, 0, len(vals) - 1)\n",
    "print(num_comparisons)\n",
    "vals[:20]"
   ]
  },
  {
   "cell_type": "code",
   "execution_count": 6,
   "metadata": {},
   "outputs": [
    {
     "data": {
      "text/plain": [
       "([1, 3, 6, 12, 14, 19], 8)"
      ]
     },
     "execution_count": 6,
     "metadata": {},
     "output_type": "execute_result"
    }
   ],
   "source": [
    "pivot_type='median'\n",
    "a = [3,1,19,6,14,12]\n",
    "num_comparisons=0\n",
    "quicksort(a,0,5)\n",
    "a, num_comparisons\n"
   ]
  },
  {
   "cell_type": "code",
   "execution_count": null,
   "metadata": {},
   "outputs": [],
   "source": []
  }
 ],
 "metadata": {
  "kernelspec": {
   "display_name": "Python 3",
   "language": "python",
   "name": "python3"
  },
  "language_info": {
   "codemirror_mode": {
    "name": "ipython",
    "version": 3
   },
   "file_extension": ".py",
   "mimetype": "text/x-python",
   "name": "python",
   "nbconvert_exporter": "python",
   "pygments_lexer": "ipython3",
   "version": "3.6.5"
  }
 },
 "nbformat": 4,
 "nbformat_minor": 2
}
